{
 "cells": [
  {
   "cell_type": "code",
   "execution_count": 28,
   "id": "f3600c6a",
   "metadata": {},
   "outputs": [
    {
     "name": "stdout",
     "output_type": "stream",
     "text": [
      "****MENU****\n",
      "\n",
      "0 - SAIR\n",
      "\n",
      "1 - SOMAR\n",
      "\n",
      "2 - SUBTRAIR\n",
      "\n",
      "3 - MULTIPLICAR\n",
      "\n",
      "4 - DIVIDIR\n",
      "\n",
      "Entre com um numero: 0\n",
      "Saindo..\n"
     ]
    }
   ],
   "source": [
    "arquivo = 'DirShell01\\dados.txt'\n",
    "file = open(arquivo, 'w+')\n",
    "\n",
    "def exibirMenu():\n",
    "    print(\"****MENU****\\n\")\n",
    "    print(\"0 - SAIR\\n\")\n",
    "    print(\"1 - SOMAR\\n\")\n",
    "    print(\"2 - SUBTRAIR\\n\")\n",
    "    print(\"3 - MULTIPLICAR\\n\")\n",
    "    print(\"4 - DIVIDIR\\n\")\n",
    "    opcao = int(input(\"Entre com um numero: \"))\n",
    "    return opcao\n",
    "\n",
    "def somar(num1, num2):\n",
    "    resultado = num1+num2\n",
    "    return resultado\n",
    "\n",
    "def sub(num1, num2):\n",
    "    resultado = num1 - num2\n",
    "    return resultado\n",
    "\n",
    "def mult(num1, num2):\n",
    "    resultado = num1 * num2\n",
    "    return resultado\n",
    "\n",
    "def div(num1, num2):\n",
    "    resultado = num1 / num2\n",
    "    return resultado\n",
    "    \n",
    "\n",
    "i=0\n",
    "opcao=1\n",
    "num1 =0\n",
    "num2 =0\n",
    "\n",
    "resultado=0\n",
    "\n",
    "while opcao!= 0:\n",
    "    opcao = exibirMenu()\n",
    "    if opcao <=0:\n",
    "        print(\"Saindo..\")\n",
    "        break\n",
    "    elif opcao == 1:\n",
    "        num1 = float(input(\"Informe o primeiro numero: \"))\n",
    "        num2 = float(input(\"Informe o segundo numero: \"))\n",
    "        resultado = somar(num1, num2)\n",
    "        file.write(str(num1) + ' + ' + str(num2) + ' = ' + str(resultado))\n",
    "        print(\"Resultado: %f\\n\\n \" %resultado)\n",
    "    elif opcao == 2:\n",
    "        num1 = float(input(\"Informe o primeiro numero: \"))\n",
    "        num2 = float(input(\"Informe o segundo numero: \"))\n",
    "        resultado = sub(num1, num2)\n",
    "        file.write(str(num1) + ' - ' + str(num2) + ' = ' + str(resultado))\n",
    "        print(\"Resultado: %f\\n\\n \" %resultado)\n",
    "    elif opcao == 3:\n",
    "        num1 = float(input(\"Informe o primeiro numero: \"))\n",
    "        num2 = float(input(\"Informe o segundo numero: \"))\n",
    "        resultado = mult(num1, num2)\n",
    "        file.write(str(num1) + ' * ' + str(num2) + ' = ' + str(resultado))\n",
    "        print(\"Resultado: %f\\n\\n \" %resultado)\n",
    "    elif opcao == 4:\n",
    "        num1 = float(input(\"Informe o primeiro numero: \"))\n",
    "        num2 = float(input(\"Informe o segundo numero: \"))\n",
    "        resultado = div(num1, num2)\n",
    "        file.write(str(num1) + ' / ' + str(num2) + ' = ' + str(resultado))\n",
    "        print(\"Resultado: %f\\n\\n \" %resultado)\n",
    "    else:\n",
    "        print(\"Digite uma opção valida!\")\n",
    "    file.close()\n",
    "    "
   ]
  },
  {
   "cell_type": "code",
   "execution_count": 30,
   "id": "aaeb360b",
   "metadata": {},
   "outputs": [
    {
     "name": "stdout",
     "output_type": "stream",
     "text": [
      "****MENU****\n",
      "\n",
      "0 - SAIR\n",
      "\n",
      "1 - SOMAR\n",
      "\n",
      "2 - SUBTRAIR\n",
      "\n",
      "3 - MULTIPLICAR\n",
      "\n",
      "4 - DIVIDIR\n",
      "\n",
      "Entre com um numero: 1\n"
     ]
    },
    {
     "data": {
      "text/plain": [
       "1"
      ]
     },
     "execution_count": 30,
     "metadata": {},
     "output_type": "execute_result"
    }
   ],
   "source": [
    "class Calculadora:\n",
    "    \n",
    "    def __init__(self, numero1, numero2):\n",
    "        self.numero1 = numero1\n",
    "        self.numero2 = numero2\n",
    "\n",
    "    def soma(self):\n",
    "        return self.numero1 + self.numero2\n",
    "\n",
    "    def sub(self):\n",
    "        return self.numero1 - self.numero2\n",
    "\n",
    "    def mult(self):\n",
    "        return self.numero1 * self.numero2\n",
    "\n",
    "    def div(self):\n",
    "        return self.numero1 / self.numero2\n",
    "        \n",
    "    def exibirMenu(self):\n",
    "        print(\"****MENU****\\n\")\n",
    "        print(\"0 - SAIR\\n\")\n",
    "        print(\"1 - SOMAR\\n\")\n",
    "        print(\"2 - SUBTRAIR\\n\")\n",
    "        print(\"3 - MULTIPLICAR\\n\")\n",
    "        print(\"4 - DIVIDIR\\n\")\n",
    "        opcao = int(input(\"Entre com um numero: \"))\n",
    "        return opcao\n",
    "    \n",
    "\n",
    "p1 = Calculadora(3, 2)\n",
    "p1.exibirMenu()"
   ]
  },
  {
   "cell_type": "code",
   "execution_count": null,
   "id": "53579e3e",
   "metadata": {},
   "outputs": [],
   "source": []
  },
  {
   "cell_type": "code",
   "execution_count": null,
   "id": "c5f52def",
   "metadata": {},
   "outputs": [],
   "source": []
  }
 ],
 "metadata": {
  "kernelspec": {
   "display_name": "Python 3",
   "language": "python",
   "name": "python3"
  },
  "language_info": {
   "codemirror_mode": {
    "name": "ipython",
    "version": 3
   },
   "file_extension": ".py",
   "mimetype": "text/x-python",
   "name": "python",
   "nbconvert_exporter": "python",
   "pygments_lexer": "ipython3",
   "version": "3.9.1"
  }
 },
 "nbformat": 4,
 "nbformat_minor": 5
}
